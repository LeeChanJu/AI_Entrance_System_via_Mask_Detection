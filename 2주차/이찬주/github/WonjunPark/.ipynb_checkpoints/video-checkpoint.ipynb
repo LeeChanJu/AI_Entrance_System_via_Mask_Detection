{
 "cells": [
  {
   "cell_type": "code",
   "execution_count": 1,
   "metadata": {},
   "outputs": [
    {
     "ename": "ModuleNotFoundError",
     "evalue": "No module named 'winsound'",
     "output_type": "error",
     "traceback": [
      "\u001b[0;31m---------------------------------------------------------------------------\u001b[0m",
      "\u001b[0;31mModuleNotFoundError\u001b[0m                       Traceback (most recent call last)",
      "\u001b[0;32m<ipython-input-1-d3d986b3be66>\u001b[0m in \u001b[0;36m<module>\u001b[0;34m\u001b[0m\n\u001b[1;32m      3\u001b[0m \u001b[0;32mimport\u001b[0m \u001b[0mnumpy\u001b[0m \u001b[0;32mas\u001b[0m \u001b[0mnp\u001b[0m\u001b[0;34m\u001b[0m\u001b[0;34m\u001b[0m\u001b[0m\n\u001b[1;32m      4\u001b[0m \u001b[0;32mimport\u001b[0m \u001b[0mcv2\u001b[0m\u001b[0;34m\u001b[0m\u001b[0;34m\u001b[0m\u001b[0m\n\u001b[0;32m----> 5\u001b[0;31m \u001b[0;32mimport\u001b[0m \u001b[0mwinsound\u001b[0m\u001b[0;34m\u001b[0m\u001b[0;34m\u001b[0m\u001b[0m\n\u001b[0m\u001b[1;32m      6\u001b[0m \u001b[0;34m\u001b[0m\u001b[0m\n\u001b[1;32m      7\u001b[0m \u001b[0;31m# facenet : 얼굴을 찾는 모델\u001b[0m\u001b[0;34m\u001b[0m\u001b[0;34m\u001b[0m\u001b[0;34m\u001b[0m\u001b[0m\n",
      "\u001b[0;31mModuleNotFoundError\u001b[0m: No module named 'winsound'"
     ]
    }
   ],
   "source": [
    "from tensorflow.keras.applications.mobilenet_v2 import preprocess_input\n",
    "from tensorflow.keras.models import load_model\n",
    "import numpy as np\n",
    "import cv2\n",
    "import pygame\n",
    "\n",
    "# facenet : 얼굴을 찾는 모델\n",
    "facenet = cv2.dnn.readNet('models/deploy.prototxt', 'models/res10_300x300_ssd_iter_140000.caffemodel')\n",
    "# model : 마스크 검출 모델\n",
    "model = load_model('models/mask_detector.model')\n",
    "\n",
    "# 동영상 파일 읽기\n",
    "# cap = cv2.VideoCapture('imgs/01.mp4')\n",
    "# 실시간 웹캠 읽기\n",
    "cap = cv2.VideoCapture(0)\n",
    "i = 0\n",
    "\n",
    "while cap.isOpened():\n",
    "    ret, img = cap.read()\n",
    "    if not ret:\n",
    "        break\n",
    "\n",
    "    # 이미지의 높이와 너비 추출\n",
    "    h, w = img.shape[:2]\n",
    "\n",
    "    # 이미지 전처리\n",
    "    # ref. https://www.pyimagesearch.com/2017/11/06/deep-learning-opencvs-blobfromimage-works/\n",
    "    blob = cv2.dnn.blobFromImage(img, scalefactor=1., size=(300, 300), mean=(104., 177., 123.))\n",
    "\n",
    "    # facenet의 input으로 blob을 설정\n",
    "    facenet.setInput(blob)\n",
    "    # facenet 결과 추론, 얼굴 추출 결과가 dets의 저장\n",
    "    dets = facenet.forward()\n",
    "\n",
    "    # 한 프레임 내의 여러 얼굴들을 받음\n",
    "    result_img = img.copy()\n",
    "\n",
    "    # 마스크를 찾용했는지 확인\n",
    "    for i in range(dets.shape[2]):\n",
    "\n",
    "        # 검출한 결과가 신뢰도\n",
    "        confidence = dets[0, 0, i, 2]\n",
    "        # 신뢰도를 0.5로 임계치 지정\n",
    "        if confidence < 0.5:\n",
    "            continue\n",
    "\n",
    "        # 바운딩 박스를 구함\n",
    "        x1 = int(dets[0, 0, i, 3] * w)\n",
    "        y1 = int(dets[0, 0, i, 4] * h)\n",
    "        x2 = int(dets[0, 0, i, 5] * w)\n",
    "        y2 = int(dets[0, 0, i, 6] * h)\n",
    "\n",
    "        # 원본 이미지에서 얼굴영역 추출\n",
    "        face = img[y1:y2, x1:x2]\n",
    "\n",
    "        # 추출한 얼굴영역을 전처리\n",
    "        face_input = cv2.resize(face, dsize=(224, 224))\n",
    "        face_input = cv2.cvtColor(face_input, cv2.COLOR_BGR2RGB)\n",
    "        face_input = preprocess_input(face_input)\n",
    "        face_input = np.expand_dims(face_input, axis=0)\n",
    "\n",
    "        # 마스크 검출 모델로 결과값 return\n",
    "        mask, nomask = model.predict(face_input).squeeze()\n",
    "\n",
    "        # 마스크를 꼈는지 안겼는지에 따라 라벨링해줌\n",
    "        if mask > nomask:\n",
    "            color = (0, 255, 0)\n",
    "            label = 'Mask %d%%' % (mask * 100)\n",
    "        else:\n",
    "            color = (0, 0, 255)\n",
    "            label = 'No Mask %d%%' % (nomask * 100)\n",
    "            frequency = 2500  # Set Frequency To 2500 Hertz\n",
    "            duration = 1000  # Set Duration To 1000 ms == 1 second\n",
    "            pygame.Beep(frequency, duration)\n",
    "\n",
    "        # 화면에 얼굴부분과 마스크 유무를 출력해해줌\n",
    "        cv2.rectangle(result_img, pt1=(x1, y1), pt2=(x2, y2), thickness=2, color=color, lineType=cv2.LINE_AA)\n",
    "        cv2.putText(result_img, text=label, org=(x1, y1 - 10), fontFace=cv2.FONT_HERSHEY_SIMPLEX, fontScale=0.8,\n",
    "                    color=color, thickness=2, lineType=cv2.LINE_AA)\n",
    "\n",
    "    cv2.imshow('img',result_img)\n",
    "\n",
    "    # q를 누르면 종료\n",
    "    if cv2.waitKey(1) & 0xFF == ord('q'):\n",
    "        break"
   ]
  },
  {
   "cell_type": "code",
   "execution_count": 4,
   "metadata": {},
   "outputs": [
    {
     "ename": "ModuleNotFoundError",
     "evalue": "No module named 'pygame'",
     "output_type": "error",
     "traceback": [
      "\u001b[0;31m---------------------------------------------------------------------------\u001b[0m",
      "\u001b[0;31mModuleNotFoundError\u001b[0m                       Traceback (most recent call last)",
      "\u001b[0;32m<ipython-input-4-9a9bd0f596fa>\u001b[0m in \u001b[0;36m<module>\u001b[0;34m\u001b[0m\n\u001b[1;32m      3\u001b[0m \u001b[0;32mimport\u001b[0m \u001b[0mnumpy\u001b[0m \u001b[0;32mas\u001b[0m \u001b[0mnp\u001b[0m\u001b[0;34m\u001b[0m\u001b[0;34m\u001b[0m\u001b[0m\n\u001b[1;32m      4\u001b[0m \u001b[0;32mimport\u001b[0m \u001b[0mcv2\u001b[0m\u001b[0;34m\u001b[0m\u001b[0;34m\u001b[0m\u001b[0m\n\u001b[0;32m----> 5\u001b[0;31m \u001b[0;32mimport\u001b[0m \u001b[0mpygame\u001b[0m\u001b[0;34m\u001b[0m\u001b[0;34m\u001b[0m\u001b[0m\n\u001b[0m",
      "\u001b[0;31mModuleNotFoundError\u001b[0m: No module named 'pygame'"
     ]
    }
   ],
   "source": [
    "from tensorflow.keras.applications.mobilenet_v2 import preprocess_input\n",
    "from tensorflow.keras.models import load_model\n",
    "import numpy as np\n",
    "import cv2\n",
    "import pygame"
   ]
  },
  {
   "cell_type": "code",
   "execution_count": 3,
   "metadata": {},
   "outputs": [
    {
     "name": "stdout",
     "output_type": "stream",
     "text": [
      "\u001b[31mERROR: Could not find a version that satisfies the requirement winsound\u001b[0m\n",
      "\u001b[31mERROR: No matching distribution found for winsound\u001b[0m\n",
      "Note: you may need to restart the kernel to use updated packages.\n"
     ]
    }
   ],
   "source": [
    "pip install winsound"
   ]
  },
  {
   "cell_type": "code",
   "execution_count": null,
   "metadata": {},
   "outputs": [],
   "source": []
  }
 ],
 "metadata": {
  "anaconda-cloud": {},
  "kernelspec": {
   "display_name": "Python 3",
   "language": "python",
   "name": "python3"
  },
  "language_info": {
   "codemirror_mode": {
    "name": "ipython",
    "version": 3
   },
   "file_extension": ".py",
   "mimetype": "text/x-python",
   "name": "python",
   "nbconvert_exporter": "python",
   "pygments_lexer": "ipython3",
   "version": "3.8.5"
  }
 },
 "nbformat": 4,
 "nbformat_minor": 4
}
